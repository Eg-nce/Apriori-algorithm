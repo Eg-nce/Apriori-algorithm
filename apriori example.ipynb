{
 "cells": [
  {
   "cell_type": "markdown",
   "metadata": {},
   "source": [
    "**importing libraries and setting the files path**"
   ]
  },
  {
   "cell_type": "code",
   "execution_count": 28,
   "metadata": {},
   "outputs": [],
   "source": [
    "import sys\n",
    "from itertools import combinations \n",
    "from collections import defaultdict\n",
    "import pandas as pd\n",
    "import itertools\n",
    "import math\n",
    "import numpy as np\n",
    "sys.path.append(r'C:\\Users\\ege\\Desktop\\Python')"
   ]
  },
  {
   "cell_type": "code",
   "execution_count": 29,
   "metadata": {},
   "outputs": [],
   "source": [
    "from __future__ import absolute_import\n",
    "from apriori import apriori"
   ]
  },
  {
   "cell_type": "code",
   "execution_count": 30,
   "metadata": {},
   "outputs": [],
   "source": [
    "data = pd.read_csv(r'C:\\Users\\ege\\Desktop\\Python\\tez\\satislarmy.csv')"
   ]
  },
  {
   "cell_type": "markdown",
   "metadata": {},
   "source": [
    "**Data preprocessing**\n"
   ]
  },
  {
   "cell_type": "markdown",
   "metadata": {},
   "source": [
    "Note : If your dataset does have contain columns names apriori algorithm does not work. You have to drop them."
   ]
  },
  {
   "cell_type": "code",
   "execution_count": 31,
   "metadata": {},
   "outputs": [
    {
     "data": {
      "text/html": [
       "<div>\n",
       "<style scoped>\n",
       "    .dataframe tbody tr th:only-of-type {\n",
       "        vertical-align: middle;\n",
       "    }\n",
       "\n",
       "    .dataframe tbody tr th {\n",
       "        vertical-align: top;\n",
       "    }\n",
       "\n",
       "    .dataframe thead th {\n",
       "        text-align: right;\n",
       "    }\n",
       "</style>\n",
       "<table border=\"1\" class=\"dataframe\">\n",
       "  <thead>\n",
       "    <tr style=\"text-align: right;\">\n",
       "      <th></th>\n",
       "      <th>satislar</th>\n",
       "      <th>satis 1</th>\n",
       "      <th>satis2</th>\n",
       "      <th>satis3</th>\n",
       "      <th>satis4</th>\n",
       "      <th>satis5</th>\n",
       "      <th>satis6</th>\n",
       "      <th>satis7</th>\n",
       "      <th>satis8</th>\n",
       "    </tr>\n",
       "  </thead>\n",
       "  <tbody>\n",
       "    <tr>\n",
       "      <th>0</th>\n",
       "      <td>2</td>\n",
       "      <td>elma</td>\n",
       "      <td>armut</td>\n",
       "      <td>sogan</td>\n",
       "      <td>NaN</td>\n",
       "      <td>NaN</td>\n",
       "      <td>sut</td>\n",
       "      <td>et</td>\n",
       "      <td>tavuk</td>\n",
       "    </tr>\n",
       "    <tr>\n",
       "      <th>1</th>\n",
       "      <td>1</td>\n",
       "      <td>elma</td>\n",
       "      <td>armut</td>\n",
       "      <td>sogan</td>\n",
       "      <td>uzum</td>\n",
       "      <td>ekmek</td>\n",
       "      <td>sut</td>\n",
       "      <td>et</td>\n",
       "      <td>tavuk</td>\n",
       "    </tr>\n",
       "    <tr>\n",
       "      <th>2</th>\n",
       "      <td>3</td>\n",
       "      <td>elma</td>\n",
       "      <td>armut</td>\n",
       "      <td>sogan</td>\n",
       "      <td>uzum</td>\n",
       "      <td>NaN</td>\n",
       "      <td>NaN</td>\n",
       "      <td>NaN</td>\n",
       "      <td>tavuk</td>\n",
       "    </tr>\n",
       "    <tr>\n",
       "      <th>3</th>\n",
       "      <td>4</td>\n",
       "      <td>elma</td>\n",
       "      <td>armut</td>\n",
       "      <td>sogan</td>\n",
       "      <td>uzum</td>\n",
       "      <td>ekmek</td>\n",
       "      <td>NaN</td>\n",
       "      <td>et</td>\n",
       "      <td>tavuk</td>\n",
       "    </tr>\n",
       "    <tr>\n",
       "      <th>4</th>\n",
       "      <td>5</td>\n",
       "      <td>elma</td>\n",
       "      <td>armut</td>\n",
       "      <td>NaN</td>\n",
       "      <td>uzum</td>\n",
       "      <td>ekmek</td>\n",
       "      <td>sut</td>\n",
       "      <td>et</td>\n",
       "      <td>tavuk</td>\n",
       "    </tr>\n",
       "  </tbody>\n",
       "</table>\n",
       "</div>"
      ],
      "text/plain": [
       "   satislar satis 1 satis2 satis3 satis4 satis5 satis6 satis7 satis8\n",
       "0         2    elma  armut  sogan    NaN    NaN    sut     et  tavuk\n",
       "1         1    elma  armut  sogan   uzum  ekmek    sut     et  tavuk\n",
       "2         3    elma  armut  sogan   uzum    NaN    NaN    NaN  tavuk\n",
       "3         4    elma  armut  sogan   uzum  ekmek    NaN     et  tavuk\n",
       "4         5    elma  armut    NaN   uzum  ekmek    sut     et  tavuk"
      ]
     },
     "execution_count": 31,
     "metadata": {},
     "output_type": "execute_result"
    }
   ],
   "source": [
    "data.head()"
   ]
  },
  {
   "cell_type": "code",
   "execution_count": 32,
   "metadata": {},
   "outputs": [],
   "source": [
    "data.drop(labels = 'satislar',inplace= True,axis = 1)"
   ]
  },
  {
   "cell_type": "code",
   "execution_count": 33,
   "metadata": {},
   "outputs": [
    {
     "data": {
      "text/html": [
       "<div>\n",
       "<style scoped>\n",
       "    .dataframe tbody tr th:only-of-type {\n",
       "        vertical-align: middle;\n",
       "    }\n",
       "\n",
       "    .dataframe tbody tr th {\n",
       "        vertical-align: top;\n",
       "    }\n",
       "\n",
       "    .dataframe thead th {\n",
       "        text-align: right;\n",
       "    }\n",
       "</style>\n",
       "<table border=\"1\" class=\"dataframe\">\n",
       "  <thead>\n",
       "    <tr style=\"text-align: right;\">\n",
       "      <th></th>\n",
       "      <th>satis 1</th>\n",
       "      <th>satis2</th>\n",
       "      <th>satis3</th>\n",
       "      <th>satis4</th>\n",
       "      <th>satis5</th>\n",
       "      <th>satis6</th>\n",
       "      <th>satis7</th>\n",
       "      <th>satis8</th>\n",
       "    </tr>\n",
       "  </thead>\n",
       "  <tbody>\n",
       "    <tr>\n",
       "      <th>0</th>\n",
       "      <td>elma</td>\n",
       "      <td>armut</td>\n",
       "      <td>sogan</td>\n",
       "      <td>NaN</td>\n",
       "      <td>NaN</td>\n",
       "      <td>sut</td>\n",
       "      <td>et</td>\n",
       "      <td>tavuk</td>\n",
       "    </tr>\n",
       "    <tr>\n",
       "      <th>1</th>\n",
       "      <td>elma</td>\n",
       "      <td>armut</td>\n",
       "      <td>sogan</td>\n",
       "      <td>uzum</td>\n",
       "      <td>ekmek</td>\n",
       "      <td>sut</td>\n",
       "      <td>et</td>\n",
       "      <td>tavuk</td>\n",
       "    </tr>\n",
       "    <tr>\n",
       "      <th>2</th>\n",
       "      <td>elma</td>\n",
       "      <td>armut</td>\n",
       "      <td>sogan</td>\n",
       "      <td>uzum</td>\n",
       "      <td>NaN</td>\n",
       "      <td>NaN</td>\n",
       "      <td>NaN</td>\n",
       "      <td>tavuk</td>\n",
       "    </tr>\n",
       "    <tr>\n",
       "      <th>3</th>\n",
       "      <td>elma</td>\n",
       "      <td>armut</td>\n",
       "      <td>sogan</td>\n",
       "      <td>uzum</td>\n",
       "      <td>ekmek</td>\n",
       "      <td>NaN</td>\n",
       "      <td>et</td>\n",
       "      <td>tavuk</td>\n",
       "    </tr>\n",
       "    <tr>\n",
       "      <th>4</th>\n",
       "      <td>elma</td>\n",
       "      <td>armut</td>\n",
       "      <td>NaN</td>\n",
       "      <td>uzum</td>\n",
       "      <td>ekmek</td>\n",
       "      <td>sut</td>\n",
       "      <td>et</td>\n",
       "      <td>tavuk</td>\n",
       "    </tr>\n",
       "  </tbody>\n",
       "</table>\n",
       "</div>"
      ],
      "text/plain": [
       "  satis 1 satis2 satis3 satis4 satis5 satis6 satis7 satis8\n",
       "0    elma  armut  sogan    NaN    NaN    sut     et  tavuk\n",
       "1    elma  armut  sogan   uzum  ekmek    sut     et  tavuk\n",
       "2    elma  armut  sogan   uzum    NaN    NaN    NaN  tavuk\n",
       "3    elma  armut  sogan   uzum  ekmek    NaN     et  tavuk\n",
       "4    elma  armut    NaN   uzum  ekmek    sut     et  tavuk"
      ]
     },
     "execution_count": 33,
     "metadata": {},
     "output_type": "execute_result"
    }
   ],
   "source": [
    "data.head()"
   ]
  },
  {
   "cell_type": "markdown",
   "metadata": {},
   "source": [
    "**apriori(data,x1, x2 ) :  data = csv file , x1 = Minsup ratio ( % ) , x2 = Confidence ratio ( % )**"
   ]
  },
  {
   "cell_type": "code",
   "execution_count": 40,
   "metadata": {},
   "outputs": [
    {
     "name": "stdout",
     "output_type": "stream",
     "text": [
      " Frequency list :  [[('tavuk', 'uzum'), 'frequency ===> %76.92'], [('elma', 'tavuk'), 'frequency ===> %76.92'], [('elma',), 'frequency ===> %76.92'], [('armut',), 'frequency ===> %76.92'], [('sut',), 'frequency ===> %76.92'], [('tavuk',), 'frequency ===> %92.31'], [('uzum',), 'frequency ===> %84.62']]\n",
      "****************************\n",
      "****************************\n",
      " Confidence list :  [['tavuk', '=============>', ['tavuk', 'uzum'], 'confidence = %83.33'], ['uzum', '=============>', ['tavuk', 'uzum'], 'confidence = %90.91'], ['elma', '=============>', ['elma', 'tavuk'], 'confidence = %100.00'], ['tavuk', '=============>', ['elma', 'tavuk'], 'confidence = %83.33']]\n"
     ]
    }
   ],
   "source": [
    "if __name__ == \"__main__\":\n",
    "  ap = apriori(data,70,80) \n",
    "  Frequency_list ,Confidence_list  = ap.Miner()\n",
    "  print(\" Frequency list : \",Frequency_list)\n",
    "  print('****************************')\n",
    "  print('****************************')  \n",
    "  print(\" Confidence list : \", Confidence_list)  \n"
   ]
  }
 ],
 "metadata": {
  "kernelspec": {
   "display_name": "Python 3",
   "language": "python",
   "name": "python3"
  },
  "language_info": {
   "codemirror_mode": {
    "name": "ipython",
    "version": 3
   },
   "file_extension": ".py",
   "mimetype": "text/x-python",
   "name": "python",
   "nbconvert_exporter": "python",
   "pygments_lexer": "ipython3",
   "version": "3.7.7"
  }
 },
 "nbformat": 4,
 "nbformat_minor": 4
}
